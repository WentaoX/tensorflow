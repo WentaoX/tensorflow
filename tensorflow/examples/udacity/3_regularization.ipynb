{
 "cells": [
  {
   "cell_type": "markdown",
   "metadata": {
    "colab_type": "text",
    "id": "kR-4eNdK6lYS"
   },
   "source": [
    "Deep Learning\n",
    "=============\n",
    "\n",
    "Assignment 3\n",
    "------------\n",
    "\n",
    "Previously in `2_fullyconnected.ipynb`, you trained a logistic regression and a neural network model.\n",
    "\n",
    "The goal of this assignment is to explore regularization techniques."
   ]
  },
  {
   "cell_type": "code",
   "execution_count": 25,
   "metadata": {
    "cellView": "both",
    "colab": {
     "autoexec": {
      "startup": false,
      "wait_interval": 0
     }
    },
    "colab_type": "code",
    "collapsed": true,
    "id": "JLpLa8Jt7Vu4"
   },
   "outputs": [],
   "source": [
    "# These are all the modules we'll be using later. Make sure you can import them\n",
    "# before proceeding further.\n",
    "from __future__ import print_function\n",
    "import numpy as np\n",
    "import tensorflow as tf\n",
    "from six.moves import cPickle as pickle\n",
    "\n",
    "import matplotlib.pyplot as plt\n",
    "import math"
   ]
  },
  {
   "cell_type": "markdown",
   "metadata": {
    "colab_type": "text",
    "id": "1HrCK6e17WzV"
   },
   "source": [
    "First reload the data we generated in `1_notmnist.ipynb`."
   ]
  },
  {
   "cell_type": "code",
   "execution_count": 3,
   "metadata": {
    "cellView": "both",
    "colab": {
     "autoexec": {
      "startup": false,
      "wait_interval": 0
     },
     "output_extras": [
      {
       "item_id": 1
      }
     ]
    },
    "colab_type": "code",
    "collapsed": false,
    "executionInfo": {
     "elapsed": 11777,
     "status": "ok",
     "timestamp": 1449849322348,
     "user": {
      "color": "",
      "displayName": "",
      "isAnonymous": false,
      "isMe": true,
      "permissionId": "",
      "photoUrl": "",
      "sessionId": "0",
      "userId": ""
     },
     "user_tz": 480
    },
    "id": "y3-cj1bpmuxc",
    "outputId": "e03576f1-ebbe-4838-c388-f1777bcc9873"
   },
   "outputs": [
    {
     "name": "stdout",
     "output_type": "stream",
     "text": [
      "Training set (200000, 28, 28) (200000,)\n",
      "Validation set (10000, 28, 28) (10000,)\n",
      "Test set (10000, 28, 28) (10000,)\n"
     ]
    }
   ],
   "source": [
    "pickle_file = 'notMNIST.pickle'\n",
    "\n",
    "with open(pickle_file, 'rb') as f:\n",
    "  save = pickle.load(f)\n",
    "  train_dataset = save['train_dataset']\n",
    "  train_labels = save['train_labels']\n",
    "  valid_dataset = save['valid_dataset']\n",
    "  valid_labels = save['valid_labels']\n",
    "  test_dataset = save['test_dataset']\n",
    "  test_labels = save['test_labels']\n",
    "  del save  # hint to help gc free up memory\n",
    "  print('Training set', train_dataset.shape, train_labels.shape)\n",
    "  print('Validation set', valid_dataset.shape, valid_labels.shape)\n",
    "  print('Test set', test_dataset.shape, test_labels.shape)"
   ]
  },
  {
   "cell_type": "markdown",
   "metadata": {
    "colab_type": "text",
    "id": "L7aHrm6nGDMB"
   },
   "source": [
    "Reformat into a shape that's more adapted to the models we're going to train:\n",
    "- data as a flat matrix,\n",
    "- labels as float 1-hot encodings."
   ]
  },
  {
   "cell_type": "code",
   "execution_count": 6,
   "metadata": {
    "collapsed": false
   },
   "outputs": [
    {
     "data": {
      "text/plain": [
       "array([3, 6, 4, ..., 6, 9, 0], dtype=int32)"
      ]
     },
     "execution_count": 6,
     "metadata": {},
     "output_type": "execute_result"
    }
   ],
   "source": [
    "test_labels"
   ]
  },
  {
   "cell_type": "code",
   "execution_count": 18,
   "metadata": {
    "collapsed": false
   },
   "outputs": [
    {
     "name": "stdout",
     "output_type": "stream",
     "text": [
      "[[3]\n",
      " [6]\n",
      " [4]\n",
      " ..., \n",
      " [6]\n",
      " [9]\n",
      " [0]]\n",
      "(10000, 1)\n"
     ]
    }
   ],
   "source": [
    "print (test_labels[:,None])\n",
    "print (test_labels[:,None].shape)"
   ]
  },
  {
   "cell_type": "code",
   "execution_count": 4,
   "metadata": {
    "cellView": "both",
    "colab": {
     "autoexec": {
      "startup": false,
      "wait_interval": 0
     },
     "output_extras": [
      {
       "item_id": 1
      }
     ]
    },
    "colab_type": "code",
    "collapsed": false,
    "executionInfo": {
     "elapsed": 11728,
     "status": "ok",
     "timestamp": 1449849322356,
     "user": {
      "color": "",
      "displayName": "",
      "isAnonymous": false,
      "isMe": true,
      "permissionId": "",
      "photoUrl": "",
      "sessionId": "0",
      "userId": ""
     },
     "user_tz": 480
    },
    "id": "IRSyYiIIGIzS",
    "outputId": "3f8996ee-3574-4f44-c953-5c8a04636582"
   },
   "outputs": [
    {
     "name": "stdout",
     "output_type": "stream",
     "text": [
      "Training set (200000, 784) (200000, 10)\n",
      "Validation set (10000, 784) (10000, 10)\n",
      "Test set (10000, 784) (10000, 10)\n"
     ]
    }
   ],
   "source": [
    "image_size = 28\n",
    "num_labels = 10\n",
    "\n",
    "def reformat(dataset, labels):\n",
    "  dataset = dataset.reshape((-1, image_size * image_size)).astype(np.float32)\n",
    "  # Map 1 to [0.0, 1.0, 0.0 ...], 2 to [0.0, 0.0, 1.0 ...]\n",
    "  labels = (np.arange(num_labels) == labels[:,None]).astype(np.float32)\n",
    "  return dataset, labels\n",
    "train_dataset, train_labels = reformat(train_dataset, train_labels)\n",
    "valid_dataset, valid_labels = reformat(valid_dataset, valid_labels)\n",
    "test_dataset, test_labels = reformat(test_dataset, test_labels)\n",
    "print('Training set', train_dataset.shape, train_labels.shape)\n",
    "print('Validation set', valid_dataset.shape, valid_labels.shape)\n",
    "print('Test set', test_dataset.shape, test_labels.shape)"
   ]
  },
  {
   "cell_type": "code",
   "execution_count": 6,
   "metadata": {
    "cellView": "both",
    "colab": {
     "autoexec": {
      "startup": false,
      "wait_interval": 0
     }
    },
    "colab_type": "code",
    "collapsed": true,
    "id": "RajPLaL_ZW6w"
   },
   "outputs": [],
   "source": [
    "def accuracy(predictions, labels):\n",
    "  return (100.0 * np.sum(np.argmax(predictions, 1) == np.argmax(labels, 1))\n",
    "          / predictions.shape[0])"
   ]
  },
  {
   "cell_type": "markdown",
   "metadata": {
    "colab_type": "text",
    "id": "sgLbUAQ1CW-1"
   },
   "source": [
    "---\n",
    "Problem 1\n",
    "---------\n",
    "\n",
    "Introduce and tune L2 regularization for both logistic and neural network models. Remember that L2 amounts to adding a penalty on the norm of the weights to the loss. In TensorFlow, you can compute the L2 loss for a tensor `t` using `nn.l2_loss(t)`. The right amount of regularization should improve your validation / test accuracy.\n",
    "\n",
    "---"
   ]
  },
  {
   "cell_type": "markdown",
   "metadata": {},
   "source": [
    "# We're first going to train a multinomial logistic regression using stochastic gradient descent training."
   ]
  },
  {
   "cell_type": "code",
   "execution_count": 37,
   "metadata": {
    "collapsed": true
   },
   "outputs": [],
   "source": [
    "batch_size = 128\n",
    "\n",
    "graph = tf.Graph()\n",
    "with graph.as_default():\n",
    "\n",
    "  # Input data. For the training data, we use a placeholder that will be fed\n",
    "  # at run time with a training minibatch.\n",
    "  tf_train_dataset = tf.placeholder(tf.float32,\n",
    "                                    shape=(batch_size, image_size * image_size))\n",
    "  tf_train_labels = tf.placeholder(tf.float32, shape=(batch_size, num_labels))\n",
    "  tf_valid_dataset = tf.constant(valid_dataset)\n",
    "  tf_test_dataset = tf.constant(test_dataset)\n",
    "  \n",
    "  # Variables.\n",
    "  weights = tf.Variable(\n",
    "    tf.truncated_normal([image_size * image_size, num_labels]))\n",
    "  biases = tf.Variable(tf.zeros([num_labels]))\n",
    "\n",
    "  # Loss function\n",
    "  logits = tf.matmul(tf_train_dataset, weights) + biases\n",
    "     # original loss function\n",
    "  unregularized_loss = tf.nn.softmax_cross_entropy_with_logits(labels=tf_train_labels, logits=logits)\n",
    "\n",
    "     # regulariztion term, take the L2 loss of each of the weight tensors,\n",
    "     # here we have only 1 weight tensor weights,\n",
    "     # then sum them and multiply by a hyper-parameter beta.\n",
    "     # tried different value for beta, 0.0001. 0.001, 0.002, 0.003, 0.004, 0.005 and 0.01, \n",
    "     # 0.002 and 0.003 are the best\n",
    "  beta = 0.004\n",
    "  l2_loss = beta * tf.nn.l2_loss(weights)\n",
    "      \n",
    "     # total loss is the sum of the orignal loss and l2 loss\n",
    "  total_loss = tf.add(unregularized_loss, l2_loss)\n",
    "\n",
    "  # Training computation.\n",
    "  \n",
    "  loss = tf.reduce_mean(total_loss)\n",
    "  \n",
    "  # Optimizer.\n",
    "  optimizer = tf.train.GradientDescentOptimizer(0.5).minimize(loss)\n",
    "  \n",
    "  # Predictions for the training, validation, and test data.\n",
    "  train_prediction = tf.nn.softmax(logits)\n",
    "  valid_prediction = tf.nn.softmax(\n",
    "    tf.matmul(tf_valid_dataset, weights) + biases)\n",
    "  test_prediction = tf.nn.softmax(tf.matmul(tf_test_dataset, weights) + biases)"
   ]
  },
  {
   "cell_type": "markdown",
   "metadata": {},
   "source": [
    "now let's run it:"
   ]
  },
  {
   "cell_type": "code",
   "execution_count": 38,
   "metadata": {
    "collapsed": false
   },
   "outputs": [
    {
     "name": "stdout",
     "output_type": "stream",
     "text": [
      "Initialized\n",
      "Minibatch loss at step 0: 27.728315\n",
      "Minibatch accuracy: 12.5%\n",
      "Validation accuracy: 14.4%\n",
      "Minibatch loss at step 500: 2.167126\n",
      "Minibatch accuracy: 81.2%\n",
      "Validation accuracy: 79.4%\n",
      "Minibatch loss at step 1000: 0.764433\n",
      "Minibatch accuracy: 82.8%\n",
      "Validation accuracy: 81.0%\n",
      "Minibatch loss at step 1500: 0.672192\n",
      "Minibatch accuracy: 85.2%\n",
      "Validation accuracy: 81.8%\n",
      "Minibatch loss at step 2000: 0.590772\n",
      "Minibatch accuracy: 87.5%\n",
      "Validation accuracy: 81.9%\n",
      "Minibatch loss at step 2500: 0.694861\n",
      "Minibatch accuracy: 81.2%\n",
      "Validation accuracy: 81.1%\n",
      "Minibatch loss at step 3000: 0.558670\n",
      "Minibatch accuracy: 88.3%\n",
      "Validation accuracy: 81.5%\n",
      "Test accuracy: 88.1%\n"
     ]
    }
   ],
   "source": [
    "num_steps = 3001\n",
    "\n",
    "with tf.Session(graph=graph) as session:\n",
    "  tf.global_variables_initializer().run()\n",
    "  print(\"Initialized\")\n",
    "  for step in range(num_steps):\n",
    "    # Pick an offset within the training data, which has been randomized.\n",
    "    # Note: we could use better randomization across epochs.\n",
    "    offset = (step * batch_size) % (train_labels.shape[0] - batch_size)\n",
    "    # Generate a minibatch.\n",
    "    batch_data = train_dataset[offset:(offset + batch_size), :]\n",
    "    batch_labels = train_labels[offset:(offset + batch_size), :]\n",
    "    # Prepare a dictionary telling the session where to feed the minibatch.\n",
    "    # The key of the dictionary is the placeholder node of the graph to be fed,\n",
    "    # and the value is the numpy array to feed to it.\n",
    "    feed_dict = {tf_train_dataset : batch_data, tf_train_labels : batch_labels}\n",
    "    _, l, predictions = session.run(\n",
    "      [optimizer, loss, train_prediction], feed_dict=feed_dict)\n",
    "    if (step % 500 == 0):\n",
    "      print(\"Minibatch loss at step %d: %f\" % (step, l))\n",
    "      print(\"Minibatch accuracy: %.1f%%\" % accuracy(predictions, batch_labels))\n",
    "      print(\"Validation accuracy: %.1f%%\" % accuracy(\n",
    "        valid_prediction.eval(), valid_labels))\n",
    "  print(\"Test accuracy: %.1f%%\" % accuracy(test_prediction.eval(), test_labels))"
   ]
  },
  {
   "cell_type": "markdown",
   "metadata": {},
   "source": [
    "# Turn the logistic regression example with SGD into a 1-hidden layer neural network with rectified linear units nn.relu() and 1024 hidden nodes."
   ]
  },
  {
   "cell_type": "code",
   "execution_count": 48,
   "metadata": {
    "collapsed": false
   },
   "outputs": [
    {
     "name": "stdout",
     "output_type": "stream",
     "text": [
      "Initialized\n",
      "Minibatch loss at step 0: 637.093384\n",
      "Minibatch accuracy: 7.8%\n",
      "Validation accuracy: 14.4%\n",
      "Minibatch loss at step 500: 322.028198\n",
      "Minibatch accuracy: 78.9%\n",
      "Validation accuracy: 79.1%\n",
      "Minibatch loss at step 1000: 294.682770\n",
      "Minibatch accuracy: 78.9%\n",
      "Validation accuracy: 81.0%\n",
      "Minibatch loss at step 1500: 276.338593\n",
      "Minibatch accuracy: 82.8%\n",
      "Validation accuracy: 82.0%\n",
      "Minibatch loss at step 2000: 265.276245\n",
      "Minibatch accuracy: 84.4%\n",
      "Validation accuracy: 82.2%\n",
      "Minibatch loss at step 2500: 249.993240\n",
      "Minibatch accuracy: 82.0%\n",
      "Validation accuracy: 83.0%\n",
      "Minibatch loss at step 3000: 235.778641\n",
      "Minibatch accuracy: 87.5%\n",
      "Validation accuracy: 82.8%\n",
      "Test accuracy: 89.7%\n"
     ]
    },
    {
     "data": {
      "image/png": "[encoded data removed]",
      "text/plain": [
       "<matplotlib.figure.Figure at 0x7f70b435a8d0>"
      ]
     },
     "metadata": {},
     "output_type": "display_data"
    }
   ],
   "source": [
    "batch_size = 128\n",
    "relu_nodes = 1024\n",
    "\n",
    "graph = tf.Graph()\n",
    "with graph.as_default():\n",
    "\n",
    "  # Input data. For the training data, we use a placeholder that will be fed\n",
    "  # at run time with a training minibatch.\n",
    "  tf_train_dataset = tf.placeholder(tf.float32,\n",
    "                                    shape=(batch_size, image_size * image_size))\n",
    "  tf_train_labels = tf.placeholder(tf.float32, shape=(batch_size, num_labels))\n",
    "  tf_valid_dataset = tf.constant(valid_dataset)\n",
    "  tf_test_dataset = tf.constant(test_dataset)\n",
    "  \n",
    "  # Variables.\n",
    "  weights1 = tf.Variable(\n",
    "    tf.truncated_normal([image_size * image_size, relu_nodes]))\n",
    "  biases1 = tf.Variable(tf.zeros([relu_nodes]))\n",
    "  \n",
    "  weights2 = tf.Variable(\n",
    "    tf.truncated_normal([relu_nodes, num_labels]))\n",
    "  biases2 = tf.Variable(tf.zeros([num_labels]))\n",
    "\n",
    "  # Loss function\n",
    "  logits1 = tf.matmul(tf_train_dataset, weights1) + biases1\n",
    "  hidden = tf.nn.relu(logits1)\n",
    "  logits2 = tf.matmul(hidden, weights2) + biases2\n",
    "     # original loss function\n",
    "  unregularized_loss = tf.nn.softmax_cross_entropy_with_logits(labels=tf_train_labels, logits=logits2)\n",
    "\n",
    "     # regulariztion term, take the L2 loss of each of the weight tensors,\n",
    "     # here we have only 1 weight tensor weights,\n",
    "     # then sum them and multiply by a hyper-parameter beta.\n",
    "     # tried different value for beta, 0.002, 0.003, 0.004, 0.0045 and 0.006, 0.004 is the best\n",
    "     \n",
    "  beta = 0.001\n",
    "  l2_loss = beta * (tf.nn.l2_loss(weights1) + tf.nn.l2_loss(weights2))\n",
    "      \n",
    "     # total loss is the sum of the orignal loss and l2 loss\n",
    "  total_loss = tf.add(unregularized_loss, l2_loss)\n",
    "\n",
    "  # Training computation.\n",
    "  loss = tf.reduce_mean(total_loss)\n",
    "  \n",
    "  # Optimizer.\n",
    "  optimizer = tf.train.GradientDescentOptimizer(0.05).minimize(loss)\n",
    "  \n",
    "  # Predictions for the training, validation, and test data.\n",
    "  train_prediction = tf.nn.softmax(logits2)\n",
    "    \n",
    "  valid_logits1 = tf.matmul(tf_valid_dataset, weights1) + biases1\n",
    "  valid_hidden = tf.nn.relu(valid_logits1)\n",
    "  valid_logits2 = tf.matmul(valid_hidden, weights2) + biases2\n",
    "  valid_prediction = tf.nn.softmax(valid_logits2)\n",
    "    \n",
    "  test_logits1 = tf.matmul(tf_test_dataset, weights1) + biases1\n",
    "  test_hidden = tf.nn.relu(test_logits1)\n",
    "  test_logits2 = tf.matmul(test_hidden, weights2) + biases2\n",
    "  test_prediction = tf.nn.softmax(test_logits2)\n",
    "\n",
    "# let's run it:\n",
    "num_steps = 3001\n",
    "valid_accuracy = []\n",
    "\n",
    "with tf.Session(graph=graph) as session:\n",
    "  tf.global_variables_initializer().run()\n",
    "  print(\"Initialized\")\n",
    "  for step in range(num_steps):\n",
    "    # Pick an offset within the training data, which has been randomized.\n",
    "    # Note: we could use better randomization across epochs.\n",
    "    offset = (step * batch_size) % (train_labels.shape[0] - batch_size)\n",
    "    # Generate a minibatch.\n",
    "    batch_data = train_dataset[offset:(offset + batch_size), :]\n",
    "    batch_labels = train_labels[offset:(offset + batch_size), :]\n",
    "    # Prepare a dictionary telling the session where to feed the minibatch.\n",
    "    # The key of the dictionary is the placeholder node of the graph to be fed,\n",
    "    # and the value is the numpy array to feed to it.\n",
    "    feed_dict = {tf_train_dataset : batch_data, tf_train_labels : batch_labels}\n",
    "    _, l, predictions = session.run(\n",
    "      [optimizer, loss, train_prediction], feed_dict=feed_dict)\n",
    "    if (step % 500 == 0):\n",
    "      print(\"Minibatch loss at step %d: %f\" % (step, l))\n",
    "      print(\"Minibatch accuracy: %.1f%%\" % accuracy(predictions, batch_labels))\n",
    "      \n",
    "      valid_accuracy1 = accuracy(valid_prediction.eval(), valid_labels)\n",
    "      valid_accuracy.append(valid_accuracy1)\n",
    "      print(\"Validation accuracy: %.1f%%\" % valid_accuracy1)\n",
    "    \n",
    "  print(\"Test accuracy: %.1f%%\" % accuracy(test_prediction.eval(), test_labels))\n",
    "\n",
    "xx = np.arange(len(valid_accuracy))\n",
    "x_axis = [x*500 for x in xx]\n",
    "plt.plot(x_axis, valid_accuracy, '-.')\n",
    "plt.xlabel(\"learning steps\")\n",
    "plt.ylabel(\"Validation accuracy\")\n",
    "plt.show()"
   ]
  },
  {
   "cell_type": "markdown",
   "metadata": {
    "colab_type": "text",
    "id": "na8xX2yHZzNF"
   },
   "source": [
    "---\n",
    "Problem 2\n",
    "---------\n",
    "Let's demonstrate an extreme case of overfitting. Restrict your training data to just a few batches. What happens?\n",
    "\n",
    "---"
   ]
  },
  {
   "cell_type": "markdown",
   "metadata": {},
   "source": [
    "Training a smaller training set by a 1-hidden layer neural network with rectified linear units nn.relu() and 1024 hidden nodes, the model is the same as in problem 1. It could be seen that Minibatch accuracy is 100%, but validation and test accuracy is low. As the model are learning more steps, the loss decreases, but the validation accuray is kept constant. "
   ]
  },
  {
   "cell_type": "code",
   "execution_count": 50,
   "metadata": {
    "collapsed": false
   },
   "outputs": [
    {
     "name": "stdout",
     "output_type": "stream",
     "text": [
      "Initialized\n",
      "Minibatch loss at step 0: 641.999023\n",
      "Minibatch accuracy: 10.9%\n",
      "Validation accuracy: 23.1%\n",
      "Minibatch loss at step 500: 299.494049\n",
      "Minibatch accuracy: 100.0%\n",
      "Validation accuracy: 69.2%\n",
      "Minibatch loss at step 1000: 284.888031\n",
      "Minibatch accuracy: 100.0%\n",
      "Validation accuracy: 69.2%\n",
      "Minibatch loss at step 1500: 270.993591\n",
      "Minibatch accuracy: 100.0%\n",
      "Validation accuracy: 69.2%\n",
      "Minibatch loss at step 2000: 257.776886\n",
      "Minibatch accuracy: 100.0%\n",
      "Validation accuracy: 69.2%\n",
      "Minibatch loss at step 2500: 245.204010\n",
      "Minibatch accuracy: 100.0%\n",
      "Validation accuracy: 69.2%\n",
      "Minibatch loss at step 3000: 233.245590\n",
      "Minibatch accuracy: 100.0%\n",
      "Validation accuracy: 69.2%\n",
      "Test accuracy: 75.8%\n"
     ]
    },
    {
     "data": {
      "image/png": "[encoded data removed]",
      "text/plain": [
       "<matplotlib.figure.Figure at 0x7f70d0223b90>"
      ]
     },
     "metadata": {},
     "output_type": "display_data"
    }
   ],
   "source": [
    "num_steps = 3001\n",
    "valid_accuracy = []\n",
    "subset = 1000 #use only 1000 training set\n",
    "train_dataset_smaller = train_dataset[0:subset, :]\n",
    "train_labels_smaller = train_labels[0:subset, :]\n",
    "\n",
    "with tf.Session(graph=graph) as session:\n",
    "  tf.global_variables_initializer().run()\n",
    "  print(\"Initialized\")\n",
    "  for step in range(num_steps):\n",
    "    # Pick an offset within the training data, which has been randomized.\n",
    "    # Note: we could use better randomization across epochs.\n",
    "    offset = (step * batch_size) % (train_labels_smaller.shape[0] - batch_size)\n",
    "    # Generate a minibatch.\n",
    "    batch_data = train_dataset_smaller[offset:(offset + batch_size), :]\n",
    "    batch_labels = train_labels_smaller[offset:(offset + batch_size), :]\n",
    "    # Prepare a dictionary telling the session where to feed the minibatch.\n",
    "    # The key of the dictionary is the placeholder node of the graph to be fed,\n",
    "    # and the value is the numpy array to feed to it.\n",
    "    feed_dict = {tf_train_dataset : batch_data, tf_train_labels : batch_labels}\n",
    "    _, l, predictions = session.run(\n",
    "      [optimizer, loss, train_prediction], feed_dict=feed_dict)\n",
    "    if (step % 500 == 0):\n",
    "      print(\"Minibatch loss at step %d: %f\" % (step, l))\n",
    "      print(\"Minibatch accuracy: %.1f%%\" % accuracy(predictions, batch_labels))\n",
    "      \n",
    "      valid_accuracy1 = accuracy(valid_prediction.eval(), valid_labels)\n",
    "      valid_accuracy.append(valid_accuracy1)\n",
    "      print(\"Validation accuracy: %.1f%%\" % valid_accuracy1)\n",
    "    \n",
    "  print(\"Test accuracy: %.1f%%\" % accuracy(test_prediction.eval(), test_labels))\n",
    "\n",
    "xx = np.arange(len(valid_accuracy))\n",
    "x_axis = [x*500 for x in xx]\n",
    "plt.plot(x_axis, valid_accuracy, '-.')\n",
    "plt.xlabel(\"learning steps\")\n",
    "plt.ylabel(\"Validation accuracy\")\n",
    "plt.show()"
   ]
  },
  {
   "cell_type": "markdown",
   "metadata": {
    "colab_type": "text",
    "id": "ww3SCBUdlkRc"
   },
   "source": [
    "---\n",
    "Problem 3\n",
    "---------\n",
    "Introduce Dropout on the hidden layer of the neural network. Remember: Dropout should only be introduced during training, not evaluation, otherwise your evaluation results would be stochastic as well. TensorFlow provides `nn.dropout()` for that, but you have to make sure it's only inserted during training.\n",
    "\n",
    "What happens to our extreme overfitting case?\n",
    "\n",
    "---"
   ]
  },
  {
   "cell_type": "code",
   "execution_count": 12,
   "metadata": {
    "collapsed": false
   },
   "outputs": [
    {
     "name": "stdout",
     "output_type": "stream",
     "text": [
      "Initialized\n",
      "Minibatch loss at step 0: 1443.192871\n",
      "Minibatch accuracy: 10.9%\n",
      "Validation accuracy: 16.7%\n",
      "Minibatch loss at step 500: 331.351868\n",
      "Minibatch accuracy: 77.3%\n",
      "Validation accuracy: 80.5%\n",
      "Minibatch loss at step 1000: 290.583130\n",
      "Minibatch accuracy: 84.4%\n",
      "Validation accuracy: 80.2%\n",
      "Minibatch loss at step 1500: 272.504150\n",
      "Minibatch accuracy: 87.5%\n",
      "Validation accuracy: 80.2%\n",
      "Minibatch loss at step 2000: 263.054352\n",
      "Minibatch accuracy: 89.8%\n",
      "Validation accuracy: 80.4%\n",
      "Minibatch loss at step 2500: 246.267349\n",
      "Minibatch accuracy: 88.3%\n",
      "Validation accuracy: 80.3%\n",
      "Minibatch loss at step 3000: 233.097748\n",
      "Minibatch accuracy: 90.6%\n",
      "Validation accuracy: 80.3%\n",
      "Test accuracy: 86.8%\n"
     ]
    },
    {
     "data": {
      "image/png": "[encoded data removed]",
      "text/plain": [
       "<matplotlib.figure.Figure at 0x7f3afd5b2a90>"
      ]
     },
     "metadata": {},
     "output_type": "display_data"
    }
   ],
   "source": [
    "batch_size = 128\n",
    "relu_nodes1 = 1024\n",
    "dropout = 0.1  # Dropout, probability to keep unit\n",
    "\n",
    "graph = tf.Graph()\n",
    "with graph.as_default():\n",
    "\n",
    "  # Input data. For the training data, we use a placeholder that will be fed\n",
    "  # at run time with a training minibatch.\n",
    "  tf_train_dataset = tf.placeholder(tf.float32,\n",
    "                                    shape=(batch_size, image_size * image_size))\n",
    "  tf_train_labels = tf.placeholder(tf.float32, shape=(batch_size, num_labels))\n",
    "  tf_valid_dataset = tf.constant(valid_dataset)\n",
    "  tf_test_dataset = tf.constant(test_dataset)\n",
    "  \n",
    "  # Variables.\n",
    "  weights = {\n",
    "      'w1': tf.Variable(tf.truncated_normal([image_size * image_size, relu_nodes1])),\n",
    "      'out': tf.Variable(tf.truncated_normal([relu_nodes1, num_labels])),\n",
    "  }\n",
    "      \n",
    "  biases = {\n",
    "      'b1': tf.Variable(tf.zeros([relu_nodes1])),\n",
    "      'out': tf.Variable(tf.zeros([num_labels])),\n",
    "  }\n",
    "\n",
    "  # Loss function\n",
    "    #Hidden layer with RELU activation\n",
    "  layer1 = tf.matmul(tf_train_dataset, weights['w1']) + biases['b1']\n",
    "  layer1 = tf.nn.relu(layer1)\n",
    "     #apply dropout to the hedden layer, do NOT apply drop out for the out_layer\n",
    "  layer1_dropout = tf.nn.dropout(layer1, dropout)\n",
    "     #output layer with linear activation'\n",
    "  out_layer = tf.matmul(layer1_dropout, weights['out']) + biases['out']\n",
    "       \n",
    "     # original loss function\n",
    "  unregularized_loss = tf.nn.softmax_cross_entropy_with_logits(labels=tf_train_labels, logits=out_layer)\n",
    "\n",
    "     # regulariztion term, take the L2 loss of each of the weight tensors,\n",
    "     # here we have only 1 weight tensor weights,\n",
    "     # then sum them and multiply by a hyper-parameter beta.\n",
    "     # tried different value for beta, 0.002, 0.003, 0.004, 0.0045 and 0.006, 0.004 is the best\n",
    "     \n",
    "  beta = 0.001\n",
    "     #ls_loss, regularize only weights, do NOT regularize biaes\n",
    "  l2_loss = beta * (tf.nn.l2_loss(weights['w1']) + \n",
    "                    tf.nn.l2_loss(weights['out'])\n",
    "                   )\n",
    "      \n",
    "     # total loss is the sum of the orignal loss and l2 loss\n",
    "  total_loss = tf.add(unregularized_loss, l2_loss)\n",
    "\n",
    "  # Training computation.\n",
    "  loss = tf.reduce_mean(total_loss)\n",
    "  \n",
    "  # Optimizer.\n",
    "  optimizer = tf.train.GradientDescentOptimizer(0.05).minimize(loss)\n",
    "  \n",
    "  # Predictions for the training, validation, and test data.\n",
    "  train_prediction = tf.nn.softmax(out_layer) \n",
    "    \n",
    "  valid_layer1 = tf.matmul(tf_valid_dataset, weights['w1']) + biases['b1']\n",
    "  valid_layer1 = tf.nn.relu(valid_layer1)\n",
    "  valid_layer_out = tf.matmul(valid_layer1, weights['out']) + biases['out']\n",
    "  valid_prediction = tf.nn.softmax(valid_layer_out)\n",
    "    \n",
    "  test_layer1 = tf.matmul(tf_test_dataset, weights['w1']) + biases['b1']\n",
    "  test_layer1 = tf.nn.relu(test_layer1)\n",
    "  test_layer_out = tf.matmul(test_layer1, weights['out']) + biases['out']\n",
    "  test_prediction = tf.nn.softmax(test_layer_out)\n",
    "\n",
    "    \n",
    "# now let's run it:     \n",
    "num_steps = 3001\n",
    "valid_accuracy = []\n",
    "subset = 1000 #use only 1000 training set\n",
    "train_dataset_smaller = train_dataset[0:subset, :]\n",
    "train_labels_smaller = train_labels[0:subset, :]\n",
    "\n",
    "with tf.Session(graph=graph) as session:\n",
    "  tf.global_variables_initializer().run()\n",
    "  print(\"Initialized\")\n",
    "  for step in range(num_steps):\n",
    "    # Pick an offset within the training data, which has been randomized.\n",
    "    # Note: we could use better randomization across epochs.\n",
    "    offset = (step * batch_size) % (train_labels_smaller.shape[0] - batch_size)\n",
    "    # Generate a minibatch.\n",
    "    batch_data = train_dataset_smaller[offset:(offset + batch_size), :]\n",
    "    batch_labels = train_labels_smaller[offset:(offset + batch_size), :]\n",
    "    # Prepare a dictionary telling the session where to feed the minibatch.\n",
    "    # The key of the dictionary is the placeholder node of the graph to be fed,\n",
    "    # and the value is the numpy array to feed to it.\n",
    "    feed_dict = {tf_train_dataset : batch_data, tf_train_labels : batch_labels}\n",
    "    _, l, predictions = session.run(\n",
    "      [optimizer, loss, train_prediction], feed_dict=feed_dict)\n",
    "    if (step % 500 == 0):\n",
    "      print(\"Minibatch loss at step %d: %f\" % (step, l))\n",
    "      print(\"Minibatch accuracy: %.1f%%\" % accuracy(predictions, batch_labels))\n",
    "      \n",
    "      valid_accuracy1 = accuracy(valid_prediction.eval(), valid_labels)\n",
    "      valid_accuracy.append(valid_accuracy1)\n",
    "      print(\"Validation accuracy: %.1f%%\" % valid_accuracy1)\n",
    "    \n",
    "  print(\"Test accuracy: %.1f%%\" % accuracy(test_prediction.eval(), test_labels))\n",
    "\n",
    "xx = np.arange(len(valid_accuracy))\n",
    "x_axis = [x*500 for x in xx]\n",
    "plt.plot(x_axis, valid_accuracy, '-.')\n",
    "plt.xlabel(\"learning steps\")\n",
    "plt.ylabel(\"Validation accuracy\")\n",
    "plt.show()"
   ]
  },
  {
   "cell_type": "markdown",
   "metadata": {},
   "source": [
    "By introducing Dropout, and decreasing the parameter 'dropout' the Minibatch accuracy is approaching the validation accuracy, meaning overfitting is reduced. Meanwhile, the test accuracy is increasing.   "
   ]
  },
  {
   "cell_type": "markdown",
   "metadata": {
    "colab_type": "text",
    "id": "-b1hTz3VWZjw"
   },
   "source": [
    "---\n",
    "Problem 4\n",
    "---------\n",
    "\n",
    "Try to get the best performance you can using a multi-layer model! The best reported test accuracy using a deep network is [97.1%](http://yaroslavvb.blogspot.com/2011/09/notmnist-dataset.html?showComment=1391023266211#c8758720086795711595).\n",
    "\n",
    "One avenue you can explore is to add multiple layers.\n",
    "\n",
    "Another one is to use learning rate decay:\n",
    "\n",
    "    global_step = tf.Variable(0)  # count the number of steps taken.\n",
    "    learning_rate = tf.train.exponential_decay(0.5, global_step, ...)\n",
    "    optimizer = tf.train.GradientDescentOptimizer(learning_rate).minimize(loss, global_step=global_step)\n",
    " \n",
    " ---\n"
   ]
  },
  {
   "cell_type": "code",
   "execution_count": 29,
   "metadata": {
    "collapsed": false
   },
   "outputs": [
    {
     "name": "stdout",
     "output_type": "stream",
     "text": [
      "Initialized\n",
      "Minibatch loss at step 0: 3.357512\n",
      "Minibatch accuracy: 14.8%\n",
      "Validation accuracy: 20.1%\n",
      "Minibatch loss at step 500: 1.536435\n",
      "Minibatch accuracy: 85.2%\n",
      "Validation accuracy: 83.8%\n",
      "Minibatch loss at step 1000: 1.343784\n",
      "Minibatch accuracy: 87.5%\n",
      "Validation accuracy: 85.1%\n",
      "Minibatch loss at step 1500: 1.323500\n",
      "Minibatch accuracy: 88.3%\n",
      "Validation accuracy: 86.0%\n",
      "Minibatch loss at step 2000: 1.180325\n",
      "Minibatch accuracy: 91.4%\n",
      "Validation accuracy: 86.5%\n",
      "Minibatch loss at step 2500: 1.267073\n",
      "Minibatch accuracy: 87.5%\n",
      "Validation accuracy: 86.9%\n",
      "Minibatch loss at step 3000: 1.103201\n",
      "Minibatch accuracy: 91.4%\n",
      "Validation accuracy: 87.3%\n",
      "Minibatch loss at step 3500: 1.107416\n",
      "Minibatch accuracy: 92.2%\n",
      "Validation accuracy: 87.9%\n",
      "Minibatch loss at step 4000: 1.044433\n",
      "Minibatch accuracy: 90.6%\n",
      "Validation accuracy: 87.7%\n",
      "Minibatch loss at step 4500: 1.053688\n",
      "Minibatch accuracy: 89.1%\n",
      "Validation accuracy: 87.9%\n",
      "Minibatch loss at step 5000: 1.087368\n",
      "Minibatch accuracy: 85.9%\n",
      "Validation accuracy: 88.3%\n",
      "Minibatch loss at step 5500: 1.093596\n",
      "Minibatch accuracy: 85.9%\n",
      "Validation accuracy: 88.3%\n",
      "Minibatch loss at step 6000: 1.084520\n",
      "Minibatch accuracy: 83.6%\n",
      "Validation accuracy: 88.5%\n",
      "Minibatch loss at step 6500: 0.988616\n",
      "Minibatch accuracy: 90.6%\n",
      "Validation accuracy: 88.9%\n",
      "Minibatch loss at step 7000: 0.870353\n",
      "Minibatch accuracy: 91.4%\n",
      "Validation accuracy: 89.0%\n",
      "Minibatch loss at step 7500: 0.829551\n",
      "Minibatch accuracy: 94.5%\n",
      "Validation accuracy: 89.1%\n",
      "Minibatch loss at step 8000: 0.782287\n",
      "Minibatch accuracy: 93.0%\n",
      "Validation accuracy: 89.2%\n",
      "Minibatch loss at step 8500: 0.948608\n",
      "Minibatch accuracy: 87.5%\n",
      "Validation accuracy: 89.2%\n",
      "Minibatch loss at step 9000: 0.827960\n",
      "Minibatch accuracy: 90.6%\n",
      "Validation accuracy: 89.3%\n",
      "Minibatch loss at step 9500: 0.822695\n",
      "Minibatch accuracy: 87.5%\n",
      "Validation accuracy: 89.3%\n",
      "Minibatch loss at step 10000: 0.627242\n",
      "Minibatch accuracy: 95.3%\n",
      "Validation accuracy: 89.7%\n",
      "Minibatch loss at step 10500: 0.831569\n",
      "Minibatch accuracy: 89.1%\n",
      "Validation accuracy: 89.8%\n",
      "Minibatch loss at step 11000: 0.670197\n",
      "Minibatch accuracy: 92.2%\n",
      "Validation accuracy: 89.6%\n",
      "Minibatch loss at step 11500: 0.648210\n",
      "Minibatch accuracy: 93.8%\n",
      "Validation accuracy: 89.8%\n",
      "Minibatch loss at step 12000: 0.649678\n",
      "Minibatch accuracy: 94.5%\n",
      "Validation accuracy: 89.8%\n",
      "Minibatch loss at step 12500: 0.668783\n",
      "Minibatch accuracy: 89.1%\n",
      "Validation accuracy: 89.9%\n",
      "Minibatch loss at step 13000: 0.746347\n",
      "Minibatch accuracy: 88.3%\n",
      "Validation accuracy: 89.7%\n",
      "Minibatch loss at step 13500: 0.575897\n",
      "Minibatch accuracy: 93.0%\n",
      "Validation accuracy: 90.0%\n",
      "Minibatch loss at step 14000: 0.595716\n",
      "Minibatch accuracy: 90.6%\n",
      "Validation accuracy: 89.8%\n",
      "Minibatch loss at step 14500: 0.574344\n",
      "Minibatch accuracy: 93.0%\n",
      "Validation accuracy: 89.8%\n",
      "Minibatch loss at step 15000: 0.571117\n",
      "Minibatch accuracy: 93.0%\n",
      "Validation accuracy: 90.0%\n",
      "Minibatch loss at step 15500: 0.556131\n",
      "Minibatch accuracy: 93.8%\n",
      "Validation accuracy: 90.0%\n",
      "Minibatch loss at step 16000: 0.689827\n",
      "Minibatch accuracy: 88.3%\n",
      "Validation accuracy: 90.0%\n",
      "Minibatch loss at step 16500: 0.534396\n",
      "Minibatch accuracy: 95.3%\n",
      "Validation accuracy: 89.9%\n",
      "Minibatch loss at step 17000: 0.521980\n",
      "Minibatch accuracy: 91.4%\n",
      "Validation accuracy: 89.9%\n",
      "Minibatch loss at step 17500: 0.632725\n",
      "Minibatch accuracy: 89.1%\n",
      "Validation accuracy: 90.0%\n",
      "Minibatch loss at step 18000: 0.524417\n",
      "Minibatch accuracy: 92.2%\n",
      "Validation accuracy: 89.9%\n",
      "Minibatch loss at step 18500: 0.545018\n",
      "Minibatch accuracy: 92.2%\n",
      "Validation accuracy: 90.0%\n",
      "Minibatch loss at step 19000: 0.484153\n",
      "Minibatch accuracy: 92.2%\n",
      "Validation accuracy: 90.2%\n",
      "Minibatch loss at step 19500: 0.492447\n",
      "Minibatch accuracy: 92.2%\n",
      "Validation accuracy: 90.1%\n",
      "Minibatch loss at step 20000: 0.428844\n",
      "Minibatch accuracy: 94.5%\n",
      "Validation accuracy: 90.0%\n",
      "Minibatch loss at step 20500: 0.623896\n",
      "Minibatch accuracy: 87.5%\n",
      "Validation accuracy: 90.3%\n",
      "Minibatch loss at step 21000: 0.458625\n",
      "Minibatch accuracy: 93.0%\n",
      "Validation accuracy: 90.3%\n",
      "Minibatch loss at step 21500: 0.398214\n",
      "Minibatch accuracy: 95.3%\n",
      "Validation accuracy: 90.1%\n",
      "Minibatch loss at step 22000: 0.403499\n",
      "Minibatch accuracy: 95.3%\n",
      "Validation accuracy: 89.9%\n",
      "Minibatch loss at step 22500: 0.604581\n",
      "Minibatch accuracy: 88.3%\n",
      "Validation accuracy: 90.3%\n",
      "Minibatch loss at step 23000: 0.421364\n",
      "Minibatch accuracy: 92.2%\n",
      "Validation accuracy: 90.6%\n",
      "Minibatch loss at step 23500: 0.423174\n",
      "Minibatch accuracy: 93.8%\n",
      "Validation accuracy: 90.2%\n",
      "Minibatch loss at step 24000: 0.514099\n",
      "Minibatch accuracy: 93.0%\n",
      "Validation accuracy: 90.5%\n",
      "Minibatch loss at step 24500: 0.363687\n",
      "Minibatch accuracy: 96.1%\n",
      "Validation accuracy: 90.2%\n",
      "Minibatch loss at step 25000: 0.396944\n",
      "Minibatch accuracy: 96.1%\n",
      "Validation accuracy: 90.4%\n",
      "Minibatch loss at step 25500: 0.484593\n",
      "Minibatch accuracy: 93.8%\n",
      "Validation accuracy: 90.4%\n",
      "Minibatch loss at step 26000: 0.410369\n",
      "Minibatch accuracy: 93.8%\n",
      "Validation accuracy: 90.4%\n",
      "Minibatch loss at step 26500: 0.410163\n",
      "Minibatch accuracy: 94.5%\n",
      "Validation accuracy: 90.3%\n",
      "Minibatch loss at step 27000: 0.452762\n",
      "Minibatch accuracy: 93.8%\n",
      "Validation accuracy: 90.3%\n",
      "Minibatch loss at step 27500: 0.503140\n",
      "Minibatch accuracy: 91.4%\n",
      "Validation accuracy: 90.4%\n",
      "Minibatch loss at step 28000: 0.349261\n",
      "Minibatch accuracy: 94.5%\n",
      "Validation accuracy: 90.3%\n",
      "Minibatch loss at step 28500: 0.335470\n",
      "Minibatch accuracy: 96.9%\n",
      "Validation accuracy: 90.2%\n",
      "Minibatch loss at step 29000: 0.351585\n",
      "Minibatch accuracy: 95.3%\n",
      "Validation accuracy: 90.5%\n",
      "Minibatch loss at step 29500: 0.372502\n",
      "Minibatch accuracy: 93.8%\n",
      "Validation accuracy: 90.2%\n",
      "Minibatch loss at step 30000: 0.354701\n",
      "Minibatch accuracy: 95.3%\n",
      "Validation accuracy: 90.4%\n",
      "Test accuracy: 95.5%\n"
     ]
    },
    {
     "data": {
      "image/png": "[encoded data removed]",
      "text/plain": [
       "<matplotlib.figure.Figure at 0x7f3afd12d9d0>"
      ]
     },
     "metadata": {},
     "output_type": "display_data"
    }
   ],
   "source": [
    "batch_size = 128\n",
    "relu_nodes1 = 1024\n",
    "relu_nodes2 = 300\n",
    "dropout = 0.1  # Dropout, probability to keep unit\n",
    "\n",
    "graph = tf.Graph()\n",
    "with graph.as_default():\n",
    "\n",
    "  # Input data. For the training data, we use a placeholder that will be fed\n",
    "  # at run time with a training minibatch.\n",
    "  tf_train_dataset = tf.placeholder(tf.float32,\n",
    "                                    shape=(batch_size, image_size * image_size))\n",
    "  tf_train_labels = tf.placeholder(tf.float32, shape=(batch_size, num_labels))\n",
    "  tf_valid_dataset = tf.constant(valid_dataset)\n",
    "  tf_test_dataset = tf.constant(test_dataset)\n",
    "  \n",
    "  # Variables.\n",
    "  weights = {\n",
    "      'w1': tf.Variable(tf.truncated_normal([image_size * image_size, relu_nodes1], \n",
    "                                            stddev = math.sqrt(2.0/(image_size * image_size)))),\n",
    "      'w2': tf.Variable(tf.truncated_normal([relu_nodes1, relu_nodes2], stddev = math.sqrt(2.0/relu_nodes1))),\n",
    "      'out': tf.Variable(tf.truncated_normal([relu_nodes2, num_labels], stddev = math.sqrt(2.0/relu_nodes2))),\n",
    "  }\n",
    "      \n",
    "  biases = {\n",
    "      'b1': tf.Variable(tf.zeros([relu_nodes1])),\n",
    "      'b2': tf.Variable(tf.zeros([relu_nodes2])),\n",
    "      'out': tf.Variable(tf.zeros([num_labels])),\n",
    "  }\n",
    "\n",
    "  # Loss function\n",
    "    #Hidden layer with RELU activation\n",
    "  layer1 = tf.matmul(tf_train_dataset, weights['w1']) + biases['b1']\n",
    "  layer1 = tf.nn.relu(layer1)\n",
    "    #Hidden layer with RELU activation\n",
    "  layer2 = tf.matmul(layer1, weights['w2']) + biases['b2']\n",
    "  layer2 = tf.nn.relu(layer2)\n",
    "    #output layer with linear activation'\n",
    "  out_layer = tf.matmul(layer2, weights['out']) + biases['out']\n",
    "  \n",
    "     #apply dropout\n",
    "  #logits2_dropout = tf.nn.dropout(logits2, dropout)\n",
    "     # original loss function\n",
    "  unregularized_loss = tf.nn.softmax_cross_entropy_with_logits(labels=tf_train_labels, logits=out_layer)\n",
    "\n",
    "     # regulariztion term, take the L2 loss of each of the weight tensors,\n",
    "     # here we have only 1 weight tensor weights,\n",
    "     # then sum them and multiply by a hyper-parameter beta.\n",
    "     # tried different value for beta, 0.002, 0.003, 0.004, 0.0045 and 0.006, 0.004 is the best\n",
    "     \n",
    "  beta = 0.001\n",
    "     #ls_loss, regularize only weights, do NOT regularize biaes\n",
    "  l2_loss = beta * (tf.nn.l2_loss(weights['w1']) + \n",
    "                    tf.nn.l2_loss(weights['w2']) +\n",
    "                    tf.nn.l2_loss(weights['out'])\n",
    "                   )\n",
    "      \n",
    "     # total loss is the sum of the orignal loss and l2 loss\n",
    "  total_loss = tf.add(unregularized_loss, l2_loss)\n",
    "\n",
    "  # Training computation.\n",
    "  loss = tf.reduce_mean(total_loss)\n",
    "  \n",
    "  # Optimizer.\n",
    "  optimizer = tf.train.GradientDescentOptimizer(0.05).minimize(loss)\n",
    "  #global_step = tf.Variable(0)  # count the number of steps taken.\n",
    "  #learning_rate = tf.train.exponential_decay(0.05, global_step, 3000, 0.86, staircase = True)\n",
    "  #optimizer = tf.train.GradientDescentOptimizer(learning_rate).minimize(loss, global_step=global_step)\n",
    "  \n",
    "  # Predictions for the training, validation, and test data.\n",
    "  train_prediction = tf.nn.softmax(out_layer) \n",
    "    \n",
    "  valid_layer1 = tf.matmul(tf_valid_dataset, weights['w1']) + biases['b1']\n",
    "  valid_layer1 = tf.nn.relu(valid_layer1)\n",
    "  valid_layer2 = tf.matmul(valid_layer1, weights['w2']) + biases['b2']\n",
    "  valid_layer2 = tf.nn.relu(valid_layer2)\n",
    "  valid_layer_out = tf.matmul(valid_layer2, weights['out']) + biases['out']\n",
    "  valid_prediction = tf.nn.softmax(valid_layer_out)\n",
    "    \n",
    "  test_layer1 = tf.matmul(tf_test_dataset, weights['w1']) + biases['b1']\n",
    "  test_layer1 = tf.nn.relu(test_layer1)\n",
    "  test_layer2 = tf.matmul(test_layer1, weights['w2']) + biases['b2']\n",
    "  test_layer2 = tf.nn.relu(test_layer2)\n",
    "  test_layer_out = tf.matmul(test_layer2, weights['out']) + biases['out']\n",
    "  test_prediction = tf.nn.softmax(test_layer_out)\n",
    "\n",
    "    \n",
    "# now let's run it:     \n",
    "num_steps = 30001\n",
    "valid_accuracy = []\n",
    "#subset = 1000 #use only 1000 training set\n",
    "#train_dataset_smaller = train_dataset[0:subset, :]\n",
    "#train_labels_smaller = train_labels[0:subset, :]\n",
    "\n",
    "with tf.Session(graph=graph) as session:\n",
    "  tf.global_variables_initializer().run()\n",
    "  print(\"Initialized\")\n",
    "  for step in range(num_steps):\n",
    "    # Pick an offset within the training data, which has been randomized.\n",
    "    # Note: we could use better randomization across epochs.\n",
    "    offset = (step * batch_size) % (train_labels.shape[0] - batch_size)\n",
    "    # Generate a minibatch.\n",
    "    batch_data = train_dataset[offset:(offset + batch_size), :]\n",
    "    batch_labels = train_labels[offset:(offset + batch_size), :]\n",
    "    # Prepare a dictionary telling the session where to feed the minibatch.\n",
    "    # The key of the dictionary is the placeholder node of the graph to be fed,\n",
    "    # and the value is the numpy array to feed to it.\n",
    "    feed_dict = {tf_train_dataset : batch_data, tf_train_labels : batch_labels}\n",
    "    _, l, predictions = session.run(\n",
    "      [optimizer, loss, train_prediction], feed_dict=feed_dict)\n",
    "    if (step % 500 == 0):\n",
    "      print(\"Minibatch loss at step %d: %f\" % (step, l))\n",
    "      print(\"Minibatch accuracy: %.1f%%\" % accuracy(predictions, batch_labels))\n",
    "      \n",
    "      valid_accuracy1 = accuracy(valid_prediction.eval(), valid_labels)\n",
    "      valid_accuracy.append(valid_accuracy1)\n",
    "      print(\"Validation accuracy: %.1f%%\" % valid_accuracy1)\n",
    "    \n",
    "  print(\"Test accuracy: %.1f%%\" % accuracy(test_prediction.eval(), test_labels))\n",
    "\n",
    "xx = np.arange(len(valid_accuracy))\n",
    "x_axis = [x*500 for x in xx]\n",
    "plt.plot(x_axis, valid_accuracy, '-.')\n",
    "plt.xlabel(\"learning steps\")\n",
    "plt.ylabel(\"Validation accuracy\")\n",
    "plt.show()"
   ]
  },
  {
   "cell_type": "markdown",
   "metadata": {},
   "source": [
    "# note:\n",
    "Adding **stddev** terms to the **weights** greatly increased the accuracy(in 3001 steps, from 61% to 93%).\n"
   ]
  },
  {
   "cell_type": "code",
   "execution_count": null,
   "metadata": {
    "collapsed": true
   },
   "outputs": [],
   "source": []
  }
 ],
 "metadata": {
  "colab": {
   "default_view": {},
   "name": "3_regularization.ipynb",
   "provenance": [],
   "version": "0.3.2",
   "views": {}
  },
  "kernelspec": {
   "display_name": "Python 2",
   "language": "python",
   "name": "python2"
  },
  "language_info": {
   "codemirror_mode": {
    "name": "ipython",
    "version": 2
   },
   "file_extension": ".py",
   "mimetype": "text/x-python",
   "name": "python",
   "nbconvert_exporter": "python",
   "pygments_lexer": "ipython2",
   "version": "2.7.13"
  }
 },
 "nbformat": 4,
 "nbformat_minor": 0
}
